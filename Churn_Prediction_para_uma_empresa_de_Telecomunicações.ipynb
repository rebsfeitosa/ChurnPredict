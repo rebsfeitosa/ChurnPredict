{
  "nbformat": 4,
  "nbformat_minor": 0,
  "metadata": {
    "colab": {
      "name": " Churn Prediction para uma empresa de Telecomunicações.ipynb",
      "provenance": [],
      "collapsed_sections": [],
      "authorship_tag": "ABX9TyNQIqSwnqI/0FhsN5wOw3sN",
      "include_colab_link": true
    },
    "kernelspec": {
      "name": "python3",
      "display_name": "Python 3"
    },
    "language_info": {
      "name": "python"
    }
  },
  "cells": [
    {
      "cell_type": "markdown",
      "metadata": {
        "id": "view-in-github",
        "colab_type": "text"
      },
      "source": [
        "<a href=\"https://colab.research.google.com/github/rebsfeitosa/ChurnPredict/blob/main/Churn_Prediction_para_uma_empresa_de_Telecomunica%C3%A7%C3%B5es.ipynb\" target=\"_parent\"><img src=\"https://colab.research.google.com/assets/colab-badge.svg\" alt=\"Open In Colab\"/></a>"
      ]
    },
    {
      "cell_type": "markdown",
      "metadata": {
        "id": "B3E07dut39Gp"
      },
      "source": [
        "# Churn Prediction\n",
        "\n",
        "*Churn rate*, ou simplesmente *churn*, representa a taxa de evasão da sua base de clientes. Em serviços como Spotify ou Netflix, ela representaria a taxa de cancelamento de assinaturas.\n",
        "\n",
        "<p align=center>\n",
        "<img src=\"https://raw.githubusercontent.com/carlosfab/dsnp2/master/img/churnrate.jpg\" width=\"60%\"></p>\n",
        "\n",
        "Ela é de extrema importância para a administração e sua análise ao longo do tempo pode mostrar que existe algum problema que deve ser atacado.\n",
        "\n",
        "*Churn* também pode ser usado para identificar potenciais cancelamentos, com um tempo de antecedência, e promover ações direcionadas para tentar reter tais clientes. Essa métrica deve receber atenção pelo fato de que o Custo de Aquisição de Cliente (CAC) é normalmente mais alto que o custo para mantê-los. Ou seja, um alto valor para o *churn rate* é o que não desejamos."
      ]
    },
    {
      "cell_type": "markdown",
      "metadata": {
        "id": "K-pC-Sjn4DXT"
      },
      "source": [
        "## Aquisição dos Dados\n",
        "\n",
        "Os dados utilizados neste projeto foram originalmente disponibilizados na [plataforma de ensino da IBM Developer](https://developer.ibm.com/technologies/data-science/patterns/predict-customer-churn-using-watson-studio-and-jupyter-notebooks/#), e tratam de um problema típico de uma companhia de telecomunicações. O *dataset* completo pode ser encontrado [neste link](https://raw.githubusercontent.com/carlosfab/dsnp2/master/datasets/WA_Fn-UseC_-Telco-Customer-Churn.csv).\n",
        "\n",
        "Apesar de não haver informações explícitas disponíves, os nomes das colunas permitem um entendimento a respeito do problema."
      ]
    },
    {
      "cell_type": "markdown",
      "metadata": {
        "id": "MTMhkV347WAz"
      },
      "source": [
        "Para este projeto, nossos pacotes principais serão Pandas para trabalhar com dados, Matplotlib e Seaborn para trabalhar com as visualizações, scikit-learn para divisão de dados, construção e avaliação do modelo de classificação. Vamos importar todos os nossos pacotes primários para o nosso ambiente Python."
      ]
    },
    {
      "cell_type": "code",
      "metadata": {
        "id": "9cP77fptKzwu"
      },
      "source": [
        "# import warnings filter\n",
        "from warnings import simplefilter\n",
        "# ignore all future warnings\n",
        "simplefilter(action='ignore', category=FutureWarning)\n",
        "\n",
        "#Importar pacotes importantes\n",
        "import pandas as pd\n",
        "import numpy as np\n",
        "import matplotlib.pyplot as plt\n",
        "import seaborn as sns\n",
        "\n",
        "#Importar pacotes de ML\n",
        "from sklearn.metrics import roc_auc_score, accuracy_score, f1_score, confusion_matrix, classification_report\n",
        "from sklearn.metrics import plot_confusion_matrix\n",
        "from sklearn.model_selection import cross_val_score\n",
        "from sklearn.svm import SVC\n",
        "from sklearn.tree import DecisionTreeClassifier\n",
        "from sklearn.linear_model import LogisticRegression\n",
        "from xgboost import XGBClassifier\n",
        "from sklearn.ensemble import RandomForestClassifier\n",
        "\n",
        "#Importar o dataset\n",
        "df = pd.read_csv('https://raw.githubusercontent.com/carlosfab/dsnp2/master/datasets/WA_Fn-UseC_-Telco-Customer-Churn.csv')"
      ],
      "execution_count": 62,
      "outputs": []
    },
    {
      "cell_type": "markdown",
      "metadata": {
        "id": "haNsuPpa4P8w"
      },
      "source": [
        "Com os dados importados para dentro de uma estrutura *Dataframe* - e não havendo a necessidade de mais nenhum ajuste ou configuração nesta etapa, pode-se iniciar uma análise exploratória dos dados a fim de preparar um modelo de Machine Learning.\n",
        "\n",
        "\n",
        "Feito isso, vamos à Análise Exploratória"
      ]
    },
    {
      "cell_type": "markdown",
      "metadata": {
        "id": "1foJYWnoLcoF"
      },
      "source": [
        "##Análise Exploratória\n",
        "\n",
        "Para começar é importante verificar a quantidade de entradas e variáveis do dataset e entender o tipo de dado que cada coluna contém. Também iremos verificar o nome de todas as colunas do dataset e de qual tipo elas são."
      ]
    },
    {
      "cell_type": "code",
      "metadata": {
        "colab": {
          "base_uri": "https://localhost:8080/",
          "height": 358
        },
        "id": "uD81PDBfLCK9",
        "outputId": "b346c1ea-d66e-4be5-923e-665a23839b37"
      },
      "source": [
        "#Verificando a quantidade de linhas e colunas do dataset\n",
        "print('Dimensões do dataset',\n",
        "      '\\nVariáveis: ',df.shape[1], '\\n'\n",
        "      'Entradas: ', df.shape[0])\n",
        "\n",
        "#Verificando as primeiras entradas do dataset\n",
        "df.head()"
      ],
      "execution_count": 63,
      "outputs": [
        {
          "output_type": "stream",
          "name": "stdout",
          "text": [
            "Dimensões do dataset \n",
            "Variáveis:  21 \n",
            "Entradas:  7043\n"
          ]
        },
        {
          "output_type": "execute_result",
          "data": {
            "text/html": [
              "<div>\n",
              "<style scoped>\n",
              "    .dataframe tbody tr th:only-of-type {\n",
              "        vertical-align: middle;\n",
              "    }\n",
              "\n",
              "    .dataframe tbody tr th {\n",
              "        vertical-align: top;\n",
              "    }\n",
              "\n",
              "    .dataframe thead th {\n",
              "        text-align: right;\n",
              "    }\n",
              "</style>\n",
              "<table border=\"1\" class=\"dataframe\">\n",
              "  <thead>\n",
              "    <tr style=\"text-align: right;\">\n",
              "      <th></th>\n",
              "      <th>customerID</th>\n",
              "      <th>gender</th>\n",
              "      <th>SeniorCitizen</th>\n",
              "      <th>Partner</th>\n",
              "      <th>Dependents</th>\n",
              "      <th>tenure</th>\n",
              "      <th>PhoneService</th>\n",
              "      <th>MultipleLines</th>\n",
              "      <th>InternetService</th>\n",
              "      <th>OnlineSecurity</th>\n",
              "      <th>OnlineBackup</th>\n",
              "      <th>DeviceProtection</th>\n",
              "      <th>TechSupport</th>\n",
              "      <th>StreamingTV</th>\n",
              "      <th>StreamingMovies</th>\n",
              "      <th>Contract</th>\n",
              "      <th>PaperlessBilling</th>\n",
              "      <th>PaymentMethod</th>\n",
              "      <th>MonthlyCharges</th>\n",
              "      <th>TotalCharges</th>\n",
              "      <th>Churn</th>\n",
              "    </tr>\n",
              "  </thead>\n",
              "  <tbody>\n",
              "    <tr>\n",
              "      <th>0</th>\n",
              "      <td>7590-VHVEG</td>\n",
              "      <td>Female</td>\n",
              "      <td>0</td>\n",
              "      <td>Yes</td>\n",
              "      <td>No</td>\n",
              "      <td>1</td>\n",
              "      <td>No</td>\n",
              "      <td>No phone service</td>\n",
              "      <td>DSL</td>\n",
              "      <td>No</td>\n",
              "      <td>Yes</td>\n",
              "      <td>No</td>\n",
              "      <td>No</td>\n",
              "      <td>No</td>\n",
              "      <td>No</td>\n",
              "      <td>Month-to-month</td>\n",
              "      <td>Yes</td>\n",
              "      <td>Electronic check</td>\n",
              "      <td>29.85</td>\n",
              "      <td>29.85</td>\n",
              "      <td>No</td>\n",
              "    </tr>\n",
              "    <tr>\n",
              "      <th>1</th>\n",
              "      <td>5575-GNVDE</td>\n",
              "      <td>Male</td>\n",
              "      <td>0</td>\n",
              "      <td>No</td>\n",
              "      <td>No</td>\n",
              "      <td>34</td>\n",
              "      <td>Yes</td>\n",
              "      <td>No</td>\n",
              "      <td>DSL</td>\n",
              "      <td>Yes</td>\n",
              "      <td>No</td>\n",
              "      <td>Yes</td>\n",
              "      <td>No</td>\n",
              "      <td>No</td>\n",
              "      <td>No</td>\n",
              "      <td>One year</td>\n",
              "      <td>No</td>\n",
              "      <td>Mailed check</td>\n",
              "      <td>56.95</td>\n",
              "      <td>1889.5</td>\n",
              "      <td>No</td>\n",
              "    </tr>\n",
              "    <tr>\n",
              "      <th>2</th>\n",
              "      <td>3668-QPYBK</td>\n",
              "      <td>Male</td>\n",
              "      <td>0</td>\n",
              "      <td>No</td>\n",
              "      <td>No</td>\n",
              "      <td>2</td>\n",
              "      <td>Yes</td>\n",
              "      <td>No</td>\n",
              "      <td>DSL</td>\n",
              "      <td>Yes</td>\n",
              "      <td>Yes</td>\n",
              "      <td>No</td>\n",
              "      <td>No</td>\n",
              "      <td>No</td>\n",
              "      <td>No</td>\n",
              "      <td>Month-to-month</td>\n",
              "      <td>Yes</td>\n",
              "      <td>Mailed check</td>\n",
              "      <td>53.85</td>\n",
              "      <td>108.15</td>\n",
              "      <td>Yes</td>\n",
              "    </tr>\n",
              "    <tr>\n",
              "      <th>3</th>\n",
              "      <td>7795-CFOCW</td>\n",
              "      <td>Male</td>\n",
              "      <td>0</td>\n",
              "      <td>No</td>\n",
              "      <td>No</td>\n",
              "      <td>45</td>\n",
              "      <td>No</td>\n",
              "      <td>No phone service</td>\n",
              "      <td>DSL</td>\n",
              "      <td>Yes</td>\n",
              "      <td>No</td>\n",
              "      <td>Yes</td>\n",
              "      <td>Yes</td>\n",
              "      <td>No</td>\n",
              "      <td>No</td>\n",
              "      <td>One year</td>\n",
              "      <td>No</td>\n",
              "      <td>Bank transfer (automatic)</td>\n",
              "      <td>42.30</td>\n",
              "      <td>1840.75</td>\n",
              "      <td>No</td>\n",
              "    </tr>\n",
              "    <tr>\n",
              "      <th>4</th>\n",
              "      <td>9237-HQITU</td>\n",
              "      <td>Female</td>\n",
              "      <td>0</td>\n",
              "      <td>No</td>\n",
              "      <td>No</td>\n",
              "      <td>2</td>\n",
              "      <td>Yes</td>\n",
              "      <td>No</td>\n",
              "      <td>Fiber optic</td>\n",
              "      <td>No</td>\n",
              "      <td>No</td>\n",
              "      <td>No</td>\n",
              "      <td>No</td>\n",
              "      <td>No</td>\n",
              "      <td>No</td>\n",
              "      <td>Month-to-month</td>\n",
              "      <td>Yes</td>\n",
              "      <td>Electronic check</td>\n",
              "      <td>70.70</td>\n",
              "      <td>151.65</td>\n",
              "      <td>Yes</td>\n",
              "    </tr>\n",
              "  </tbody>\n",
              "</table>\n",
              "</div>"
            ],
            "text/plain": [
              "   customerID  gender  SeniorCitizen  ... MonthlyCharges TotalCharges  Churn\n",
              "0  7590-VHVEG  Female              0  ...          29.85        29.85     No\n",
              "1  5575-GNVDE    Male              0  ...          56.95       1889.5     No\n",
              "2  3668-QPYBK    Male              0  ...          53.85       108.15    Yes\n",
              "3  7795-CFOCW    Male              0  ...          42.30      1840.75     No\n",
              "4  9237-HQITU  Female              0  ...          70.70       151.65    Yes\n",
              "\n",
              "[5 rows x 21 columns]"
            ]
          },
          "metadata": {},
          "execution_count": 63
        }
      ]
    },
    {
      "cell_type": "markdown",
      "metadata": {
        "id": "pVA7gLgwXCuI"
      },
      "source": [
        "##Há valores nulos?\n",
        "\n",
        "Um dos problemas mais comuns que podemos enfrentar na limpeza e exploração de dados é lidar com os valores ausentes. A qualidade de um dataset está diretamente relacionada à quantidade de valores ausentes. É importante entender logo no início se esses valores nulos são significativos comparados ao total de entradas."
      ]
    },
    {
      "cell_type": "code",
      "metadata": {
        "colab": {
          "base_uri": "https://localhost:8080/"
        },
        "id": "0mLKa9-IXISu",
        "outputId": "845088c4-e37f-4741-80e4-3d77d684b0e3"
      },
      "source": [
        "#verificando se há valores nulos \n",
        "print('Temos valores nulos?', df.isnull().values.any())"
      ],
      "execution_count": 64,
      "outputs": [
        {
          "output_type": "stream",
          "name": "stdout",
          "text": [
            "Temos valores nulos? False\n"
          ]
        }
      ]
    },
    {
      "cell_type": "markdown",
      "metadata": {
        "id": "ZDEcpYCuqqdH"
      },
      "source": [
        "A maioria dos modelos de Machine Learning esperam dados em formato numérico para fazer as previsões. Por isso é importante verificar o tipo das colunas."
      ]
    },
    {
      "cell_type": "code",
      "metadata": {
        "colab": {
          "base_uri": "https://localhost:8080/"
        },
        "id": "4FtACknhqpax",
        "outputId": "fc878d3a-55e3-41df-d0b7-5b74567db1d3"
      },
      "source": [
        "df.dtypes"
      ],
      "execution_count": 65,
      "outputs": [
        {
          "output_type": "execute_result",
          "data": {
            "text/plain": [
              "customerID           object\n",
              "gender               object\n",
              "SeniorCitizen         int64\n",
              "Partner              object\n",
              "Dependents           object\n",
              "tenure                int64\n",
              "PhoneService         object\n",
              "MultipleLines        object\n",
              "InternetService      object\n",
              "OnlineSecurity       object\n",
              "OnlineBackup         object\n",
              "DeviceProtection     object\n",
              "TechSupport          object\n",
              "StreamingTV          object\n",
              "StreamingMovies      object\n",
              "Contract             object\n",
              "PaperlessBilling     object\n",
              "PaymentMethod        object\n",
              "MonthlyCharges      float64\n",
              "TotalCharges         object\n",
              "Churn                object\n",
              "dtype: object"
            ]
          },
          "metadata": {},
          "execution_count": 65
        }
      ]
    },
    {
      "cell_type": "markdown",
      "metadata": {
        "id": "g_N-fkHMYxNI"
      },
      "source": [
        "É interessante verificar os dados categóricos cadastrados em determinadas colunas em que há dados diferente de 'Yes' e 'No'"
      ]
    },
    {
      "cell_type": "code",
      "metadata": {
        "colab": {
          "base_uri": "https://localhost:8080/"
        },
        "id": "SXbP_G_JMSlS",
        "outputId": "07b28542-60dd-4b38-ab29-470c44c886e2"
      },
      "source": [
        "#Entendendo o tipo de dados que existem nas variáveis categóricas\n",
        "print('MultipleLines:', df['MultipleLines'].unique())\n",
        "print('InternetService:', df['InternetService'].unique())\n",
        "print('Contract:', df['Contract'].unique())\n",
        "print('PaymentMethod:', df['PaymentMethod'].unique())"
      ],
      "execution_count": 66,
      "outputs": [
        {
          "output_type": "stream",
          "name": "stdout",
          "text": [
            "MultipleLines: ['No phone service' 'No' 'Yes']\n",
            "InternetService: ['DSL' 'Fiber optic' 'No']\n",
            "Contract: ['Month-to-month' 'One year' 'Two year']\n",
            "PaymentMethod: ['Electronic check' 'Mailed check' 'Bank transfer (automatic)'\n",
            " 'Credit card (automatic)']\n"
          ]
        }
      ]
    },
    {
      "cell_type": "markdown",
      "metadata": {
        "id": "nanvRtT9izZw"
      },
      "source": [
        "Vou separar os dados para que eu tenha a informação das dimnesões do conjunto de dados que correspondem a clientes que deram churn e o conjunto que os dados correspondem a clientes que não deram churn afim de facilitar a análise e verificar suas dimensões separadamente.\n"
      ]
    },
    {
      "cell_type": "code",
      "metadata": {
        "colab": {
          "base_uri": "https://localhost:8080/"
        },
        "id": "tuswZSLptDTE",
        "outputId": "10832feb-04a0-42c3-a0e2-4559e7942646"
      },
      "source": [
        "#verificando as dimensões dos datasets com transações normais e fraudulentas\n",
        "\n",
        "print('Dimensões transações que não deram Churn',\n",
        "    '\\nVariáveis: ',df[df['Churn'] == 'No'].shape[1], \"\\n\"\n",
        "      'Entradas: ', df[df['Churn'] == 'No'].shape[0])\n",
        "print('Dimensões transações que deram Churn',\n",
        "    '\\nVariáveis: ',df[df['Churn'] == 'Yes'].shape[1], \"\\n\"\n",
        "      'Entradas: ', df[df['Churn'] == 'Yes'].shape[0])"
      ],
      "execution_count": 67,
      "outputs": [
        {
          "output_type": "stream",
          "name": "stdout",
          "text": [
            "Dimensões transações que não deram Churn \n",
            "Variáveis:  21 \n",
            "Entradas:  5174\n",
            "Dimensões transações que deram Churn \n",
            "Variáveis:  21 \n",
            "Entradas:  1869\n"
          ]
        }
      ]
    },
    {
      "cell_type": "markdown",
      "metadata": {
        "id": "rsvpelKXrA5e"
      },
      "source": [
        "É interessante verificar a distruibuição dos dados em algumas variáveis (principalmente o target que é a coluna Churn). Pelos gráficos é possível verificar que a grande maioria dos clientes tem serviços de celular contratados e que o tipo de contrato \"preferido\" é mensal. Muitos clientes já aderiram receber suas contas de forma digital, mas grande parte ainda prefere a cobrança de papel em casa. Por último, fica evidente que o *dataset* está desbalanceado, já que a quantidade de churning é bem menor."
      ]
    },
    {
      "cell_type": "code",
      "metadata": {
        "colab": {
          "base_uri": "https://localhost:8080/"
        },
        "id": "J9Gk-2J_T8b7",
        "outputId": "be6d93a6-21e0-4c2b-9d3c-548769d38a60"
      },
      "source": [
        "print(plt.style.available)\n",
        "plt.style.use('_classic_test_patch')\n"
      ],
      "execution_count": 68,
      "outputs": [
        {
          "output_type": "stream",
          "name": "stdout",
          "text": [
            "['Solarize_Light2', '_classic_test_patch', 'bmh', 'classic', 'dark_background', 'fast', 'fivethirtyeight', 'ggplot', 'grayscale', 'seaborn', 'seaborn-bright', 'seaborn-colorblind', 'seaborn-dark', 'seaborn-dark-palette', 'seaborn-darkgrid', 'seaborn-deep', 'seaborn-muted', 'seaborn-notebook', 'seaborn-paper', 'seaborn-pastel', 'seaborn-poster', 'seaborn-talk', 'seaborn-ticks', 'seaborn-white', 'seaborn-whitegrid', 'tableau-colorblind10']\n"
          ]
        }
      ]
    },
    {
      "cell_type": "code",
      "metadata": {
        "colab": {
          "base_uri": "https://localhost:8080/",
          "height": 328
        },
        "id": "-1hKEFz7ebh1",
        "outputId": "88e3eca6-b477-4ac8-a2bf-9b09aca4e3f5"
      },
      "source": [
        "#visualizando o desbalanceamento \n",
        "fig, ax = plt.subplots(nrows=1, ncols=4, figsize=(16,4))\n",
        "\n",
        "num_bins = 40\n",
        "\n",
        "sns.countplot('PhoneService', data=df, ax=ax[0])\n",
        "ax[0].set_title('Tem Serviço de Celular?')\n",
        "\n",
        "sns.countplot('Contract', data=df, ax=ax[1])\n",
        "ax[1].set_title('Tipo de Contrato')\n",
        "\n",
        "sns.countplot('PaperlessBilling', data=df, ax=ax[2])\n",
        "ax[2].set_title('Boleto Digital')\n",
        "\n",
        "sns.countplot('Churn', data=df, ax=ax[3])\n",
        "ax[3].set_title('Churn')\n",
        "\n",
        "plt.tight_layout()\n"
      ],
      "execution_count": 74,
      "outputs": [
        {
          "output_type": "display_data",
          "data": {
            "image/png": "[encoded data removed]",
            "text/plain": [
              "<Figure size 1280x320 with 4 Axes>"
            ]
          },
          "metadata": {}
        }
      ]
    },
    {
      "cell_type": "markdown",
      "metadata": {
        "id": "Mt2g9PZff8V8"
      },
      "source": [
        "A variável tenure está relacionada ao tempo que um cliente permance assinando determinado serviço. Em outras palavras, pode-se dizer que é um indicativo de fidelidade.\n",
        "\n"
      ]
    },
    {
      "cell_type": "code",
      "metadata": {
        "colab": {
          "base_uri": "https://localhost:8080/",
          "height": 328
        },
        "id": "KEaUtO9vf-VJ",
        "outputId": "18c914e3-8119-4520-9460-b71993c3f375"
      },
      "source": [
        "fig, ax = plt.subplots(figsize=(12, 4))\n",
        "sns.countplot(df['tenure'])\n",
        "plt.tight_layout()"
      ],
      "execution_count": 52,
      "outputs": [
        {
          "output_type": "display_data",
          "data": {
            "image/png": "[encoded data removed]",
            "text/plain": [
              "<Figure size 960x320 with 1 Axes>"
            ]
          },
          "metadata": {}
        }
      ]
    },
    {
      "cell_type": "markdown",
      "metadata": {
        "id": "KDdU5QkEqZv8"
      },
      "source": [
        "#PREPARAÇÃO DOS DADOS"
      ]
    },
    {
      "cell_type": "markdown",
      "metadata": {
        "id": "Cy1oNTnBwQxM"
      },
      "source": [
        "##Balanceamento\n",
        "\n",
        "Vou criar um novo dataset que contenha uma distibruição parecida entre os clientes que deram churn e os que não deram. Para isso, vou usar a função sample que escolhe aleatoriamente uma determinada quantidade de dados."
      ]
    },
    {
      "cell_type": "code",
      "metadata": {
        "id": "lra3czsaszO0"
      },
      "source": [
        "normal_sample = df[df['Churn'] == 'No'].sample(n=1869)"
      ],
      "execution_count": 53,
      "outputs": []
    },
    {
      "cell_type": "markdown",
      "metadata": {
        "id": "j47-ohm_whmQ"
      },
      "source": [
        "Concatenando os dados dos clientes que deram churn e os que não deram churn para atualizar o dataframe deixando ele balanceado\n",
        "\n"
      ]
    },
    {
      "cell_type": "code",
      "metadata": {
        "id": "mrQKFBOTwoT1"
      },
      "source": [
        "df = pd.concat([normal_sample, df[df['Churn'] == 'Yes']], axis=0)"
      ],
      "execution_count": 54,
      "outputs": []
    },
    {
      "cell_type": "code",
      "metadata": {
        "colab": {
          "base_uri": "https://localhost:8080/",
          "height": 362
        },
        "id": "aDGj-KsCvO06",
        "outputId": "75695e47-53f3-45c5-cbe9-bc42e0f40263"
      },
      "source": [
        "fig, ax = plt.subplots(figsize=(8,4))\n",
        "\n",
        "num_bins = 40\n",
        "\n",
        "sns.countplot('Churn', data=df, ax=ax)\n",
        "ax.set_title('Churn')"
      ],
      "execution_count": 55,
      "outputs": [
        {
          "output_type": "execute_result",
          "data": {
            "text/plain": [
              "Text(0.5, 1.0, 'Churn')"
            ]
          },
          "metadata": {},
          "execution_count": 55
        },
        {
          "output_type": "display_data",
          "data": {
            "image/png": "[encoded data removed]",
            "text/plain": [
              "<Figure size 640x320 with 1 Axes>"
            ]
          },
          "metadata": {}
        }
      ]
    },
    {
      "cell_type": "markdown",
      "metadata": {
        "id": "3_k3xDUB1TC9"
      },
      "source": [
        "##Alterando *dataset*\n",
        "\n",
        "O ID do cliente será irrelevante para o processo de previsão de Churn, portanto irei excluir essa variável. "
      ]
    },
    {
      "cell_type": "markdown",
      "metadata": {
        "id": "kc9AhYITP_IJ"
      },
      "source": [
        "A coluna de InternetService tem dados com nome 'No' e isso pode atrapalhar na hora de alterar os dados de 'No' e 'Yes' para 0 e 1. \n",
        "Por esse motivo, vamos tirar a coluna enquanto fazemos a alteração nos dados e concatenar posteriormente."
      ]
    },
    {
      "cell_type": "code",
      "metadata": {
        "id": "N3qKeUFsLSTT"
      },
      "source": [
        "InternetService_df = df['InternetService']\n",
        "df = df.drop('InternetService', axis=1)\n",
        "df = df.replace({'No': 0, 'Yes': 1})\n",
        "df = df.drop('customerID', axis=1)\n",
        "df = pd.concat([df, InternetService_df], axis=1)"
      ],
      "execution_count": 56,
      "outputs": []
    },
    {
      "cell_type": "code",
      "metadata": {
        "colab": {
          "base_uri": "https://localhost:8080/",
          "height": 211
        },
        "id": "k7gqEPiPESaP",
        "outputId": "60abf5b1-52b4-44a2-8ad2-8cd12bd2ecaf"
      },
      "source": [
        "df.head(3)"
      ],
      "execution_count": 57,
      "outputs": [
        {
          "output_type": "execute_result",
          "data": {
            "text/html": [
              "<div>\n",
              "<style scoped>\n",
              "    .dataframe tbody tr th:only-of-type {\n",
              "        vertical-align: middle;\n",
              "    }\n",
              "\n",
              "    .dataframe tbody tr th {\n",
              "        vertical-align: top;\n",
              "    }\n",
              "\n",
              "    .dataframe thead th {\n",
              "        text-align: right;\n",
              "    }\n",
              "</style>\n",
              "<table border=\"1\" class=\"dataframe\">\n",
              "  <thead>\n",
              "    <tr style=\"text-align: right;\">\n",
              "      <th></th>\n",
              "      <th>gender</th>\n",
              "      <th>SeniorCitizen</th>\n",
              "      <th>Partner</th>\n",
              "      <th>Dependents</th>\n",
              "      <th>tenure</th>\n",
              "      <th>PhoneService</th>\n",
              "      <th>MultipleLines</th>\n",
              "      <th>OnlineSecurity</th>\n",
              "      <th>OnlineBackup</th>\n",
              "      <th>DeviceProtection</th>\n",
              "      <th>TechSupport</th>\n",
              "      <th>StreamingTV</th>\n",
              "      <th>StreamingMovies</th>\n",
              "      <th>Contract</th>\n",
              "      <th>PaperlessBilling</th>\n",
              "      <th>PaymentMethod</th>\n",
              "      <th>MonthlyCharges</th>\n",
              "      <th>TotalCharges</th>\n",
              "      <th>Churn</th>\n",
              "      <th>InternetService</th>\n",
              "    </tr>\n",
              "  </thead>\n",
              "  <tbody>\n",
              "    <tr>\n",
              "      <th>6458</th>\n",
              "      <td>Male</td>\n",
              "      <td>0</td>\n",
              "      <td>1</td>\n",
              "      <td>1</td>\n",
              "      <td>6</td>\n",
              "      <td>1</td>\n",
              "      <td>0</td>\n",
              "      <td>1</td>\n",
              "      <td>0</td>\n",
              "      <td>0</td>\n",
              "      <td>0</td>\n",
              "      <td>0</td>\n",
              "      <td>0</td>\n",
              "      <td>Month-to-month</td>\n",
              "      <td>1</td>\n",
              "      <td>Electronic check</td>\n",
              "      <td>49.15</td>\n",
              "      <td>295.65</td>\n",
              "      <td>0</td>\n",
              "      <td>DSL</td>\n",
              "    </tr>\n",
              "    <tr>\n",
              "      <th>4599</th>\n",
              "      <td>Female</td>\n",
              "      <td>0</td>\n",
              "      <td>1</td>\n",
              "      <td>1</td>\n",
              "      <td>52</td>\n",
              "      <td>1</td>\n",
              "      <td>0</td>\n",
              "      <td>0</td>\n",
              "      <td>0</td>\n",
              "      <td>1</td>\n",
              "      <td>0</td>\n",
              "      <td>0</td>\n",
              "      <td>0</td>\n",
              "      <td>One year</td>\n",
              "      <td>1</td>\n",
              "      <td>Bank transfer (automatic)</td>\n",
              "      <td>50.95</td>\n",
              "      <td>2610.65</td>\n",
              "      <td>0</td>\n",
              "      <td>DSL</td>\n",
              "    </tr>\n",
              "    <tr>\n",
              "      <th>5222</th>\n",
              "      <td>Female</td>\n",
              "      <td>0</td>\n",
              "      <td>0</td>\n",
              "      <td>0</td>\n",
              "      <td>8</td>\n",
              "      <td>1</td>\n",
              "      <td>1</td>\n",
              "      <td>1</td>\n",
              "      <td>1</td>\n",
              "      <td>1</td>\n",
              "      <td>0</td>\n",
              "      <td>0</td>\n",
              "      <td>0</td>\n",
              "      <td>Month-to-month</td>\n",
              "      <td>1</td>\n",
              "      <td>Bank transfer (automatic)</td>\n",
              "      <td>65.50</td>\n",
              "      <td>573.15</td>\n",
              "      <td>0</td>\n",
              "      <td>DSL</td>\n",
              "    </tr>\n",
              "  </tbody>\n",
              "</table>\n",
              "</div>"
            ],
            "text/plain": [
              "      gender  SeniorCitizen  Partner  ...  TotalCharges  Churn  InternetService\n",
              "6458    Male              0        1  ...        295.65      0              DSL\n",
              "4599  Female              0        1  ...       2610.65      0              DSL\n",
              "5222  Female              0        0  ...        573.15      0              DSL\n",
              "\n",
              "[3 rows x 20 columns]"
            ]
          },
          "metadata": {},
          "execution_count": 57
        }
      ]
    },
    {
      "cell_type": "markdown",
      "metadata": {
        "id": "A9D7FxexQl4u"
      },
      "source": [
        "Como em MultipleLines é a respeito de clientes que tem mais de uma linha, pessoas que não têm nenhuma linha ficaram como 'No phone service'. Já que há uma coluna (PhoneService) que informa se o cliente tem ou não linha telefônica vou transformar 'No phone service' também em 0 para facilitar a análise dos dados. Durante a conversão posterior dos dados categóricos em dados numéricos algumas entradas estavam como 'No internet service' e na coluna do valor total algumas entradas estavam sem nenhum valor. Essas entradas foram substituídas por 0."
      ]
    },
    {
      "cell_type": "code",
      "metadata": {
        "id": "X0cZy5e2GQJt"
      },
      "source": [
        "df = df.replace({'No phone service': 0})\n",
        "df = df.replace({'No internet service': 0})\n",
        "df = df.replace({' ': 0})"
      ],
      "execution_count": 58,
      "outputs": []
    },
    {
      "cell_type": "markdown",
      "metadata": {
        "id": "pbU7zHalVeA1"
      },
      "source": [
        "##*Dummy Values*\n",
        "\n",
        "O principal objetivo das ​​*dummy values* é que elas são ferramentas que nos permitem representar variáveis ​​categóricas em técnicas estatísticas.\n",
        "Quando uma variável categórica possui mais de duas categorias, ela pode ser representada por um conjunto de *dummy values*, com uma variável para cada categoria.\n",
        "\n"
      ]
    },
    {
      "cell_type": "code",
      "metadata": {
        "colab": {
          "base_uri": "https://localhost:8080/",
          "height": 194
        },
        "id": "6RbJ_Sg3VIsY",
        "outputId": "b3f788c0-80a5-49c5-8013-7f95357930e0"
      },
      "source": [
        "df = pd.get_dummies(df, columns=['gender', 'InternetService', 'Contract', 'PaymentMethod'])\n",
        "df.head(3)"
      ],
      "execution_count": 59,
      "outputs": [
        {
          "output_type": "execute_result",
          "data": {
            "text/html": [
              "<div>\n",
              "<style scoped>\n",
              "    .dataframe tbody tr th:only-of-type {\n",
              "        vertical-align: middle;\n",
              "    }\n",
              "\n",
              "    .dataframe tbody tr th {\n",
              "        vertical-align: top;\n",
              "    }\n",
              "\n",
              "    .dataframe thead th {\n",
              "        text-align: right;\n",
              "    }\n",
              "</style>\n",
              "<table border=\"1\" class=\"dataframe\">\n",
              "  <thead>\n",
              "    <tr style=\"text-align: right;\">\n",
              "      <th></th>\n",
              "      <th>SeniorCitizen</th>\n",
              "      <th>Partner</th>\n",
              "      <th>Dependents</th>\n",
              "      <th>tenure</th>\n",
              "      <th>PhoneService</th>\n",
              "      <th>MultipleLines</th>\n",
              "      <th>OnlineSecurity</th>\n",
              "      <th>OnlineBackup</th>\n",
              "      <th>DeviceProtection</th>\n",
              "      <th>TechSupport</th>\n",
              "      <th>StreamingTV</th>\n",
              "      <th>StreamingMovies</th>\n",
              "      <th>PaperlessBilling</th>\n",
              "      <th>MonthlyCharges</th>\n",
              "      <th>TotalCharges</th>\n",
              "      <th>Churn</th>\n",
              "      <th>gender_Female</th>\n",
              "      <th>gender_Male</th>\n",
              "      <th>InternetService_DSL</th>\n",
              "      <th>InternetService_Fiber optic</th>\n",
              "      <th>InternetService_No</th>\n",
              "      <th>Contract_Month-to-month</th>\n",
              "      <th>Contract_One year</th>\n",
              "      <th>Contract_Two year</th>\n",
              "      <th>PaymentMethod_Bank transfer (automatic)</th>\n",
              "      <th>PaymentMethod_Credit card (automatic)</th>\n",
              "      <th>PaymentMethod_Electronic check</th>\n",
              "      <th>PaymentMethod_Mailed check</th>\n",
              "    </tr>\n",
              "  </thead>\n",
              "  <tbody>\n",
              "    <tr>\n",
              "      <th>6458</th>\n",
              "      <td>0</td>\n",
              "      <td>1</td>\n",
              "      <td>1</td>\n",
              "      <td>6</td>\n",
              "      <td>1</td>\n",
              "      <td>0</td>\n",
              "      <td>1</td>\n",
              "      <td>0</td>\n",
              "      <td>0</td>\n",
              "      <td>0</td>\n",
              "      <td>0</td>\n",
              "      <td>0</td>\n",
              "      <td>1</td>\n",
              "      <td>49.15</td>\n",
              "      <td>295.65</td>\n",
              "      <td>0</td>\n",
              "      <td>0</td>\n",
              "      <td>1</td>\n",
              "      <td>1</td>\n",
              "      <td>0</td>\n",
              "      <td>0</td>\n",
              "      <td>1</td>\n",
              "      <td>0</td>\n",
              "      <td>0</td>\n",
              "      <td>0</td>\n",
              "      <td>0</td>\n",
              "      <td>1</td>\n",
              "      <td>0</td>\n",
              "    </tr>\n",
              "    <tr>\n",
              "      <th>4599</th>\n",
              "      <td>0</td>\n",
              "      <td>1</td>\n",
              "      <td>1</td>\n",
              "      <td>52</td>\n",
              "      <td>1</td>\n",
              "      <td>0</td>\n",
              "      <td>0</td>\n",
              "      <td>0</td>\n",
              "      <td>1</td>\n",
              "      <td>0</td>\n",
              "      <td>0</td>\n",
              "      <td>0</td>\n",
              "      <td>1</td>\n",
              "      <td>50.95</td>\n",
              "      <td>2610.65</td>\n",
              "      <td>0</td>\n",
              "      <td>1</td>\n",
              "      <td>0</td>\n",
              "      <td>1</td>\n",
              "      <td>0</td>\n",
              "      <td>0</td>\n",
              "      <td>0</td>\n",
              "      <td>1</td>\n",
              "      <td>0</td>\n",
              "      <td>1</td>\n",
              "      <td>0</td>\n",
              "      <td>0</td>\n",
              "      <td>0</td>\n",
              "    </tr>\n",
              "    <tr>\n",
              "      <th>5222</th>\n",
              "      <td>0</td>\n",
              "      <td>0</td>\n",
              "      <td>0</td>\n",
              "      <td>8</td>\n",
              "      <td>1</td>\n",
              "      <td>1</td>\n",
              "      <td>1</td>\n",
              "      <td>1</td>\n",
              "      <td>1</td>\n",
              "      <td>0</td>\n",
              "      <td>0</td>\n",
              "      <td>0</td>\n",
              "      <td>1</td>\n",
              "      <td>65.50</td>\n",
              "      <td>573.15</td>\n",
              "      <td>0</td>\n",
              "      <td>1</td>\n",
              "      <td>0</td>\n",
              "      <td>1</td>\n",
              "      <td>0</td>\n",
              "      <td>0</td>\n",
              "      <td>1</td>\n",
              "      <td>0</td>\n",
              "      <td>0</td>\n",
              "      <td>1</td>\n",
              "      <td>0</td>\n",
              "      <td>0</td>\n",
              "      <td>0</td>\n",
              "    </tr>\n",
              "  </tbody>\n",
              "</table>\n",
              "</div>"
            ],
            "text/plain": [
              "      SeniorCitizen  ...  PaymentMethod_Mailed check\n",
              "6458              0  ...                           0\n",
              "4599              0  ...                           0\n",
              "5222              0  ...                           0\n",
              "\n",
              "[3 rows x 28 columns]"
            ]
          },
          "metadata": {},
          "execution_count": 59
        }
      ]
    },
    {
      "cell_type": "code",
      "metadata": {
        "id": "5AW6XnmnbJLl"
      },
      "source": [
        "#Alterar a ordem dos dados\n",
        "churn_df = df['Churn']\n",
        "df = df.drop('Churn', axis=1)\n",
        "df = pd.concat([df, churn_df], axis=1)"
      ],
      "execution_count": 60,
      "outputs": []
    },
    {
      "cell_type": "markdown",
      "metadata": {
        "id": "Kfhg_4sBfHja"
      },
      "source": [
        "Agora que o *dataframe* já está \"organizado\" vamos verificar o formato dele, as primeiras entradas e também o tipo dos dados de cada coluna."
      ]
    },
    {
      "cell_type": "code",
      "metadata": {
        "colab": {
          "base_uri": "https://localhost:8080/",
          "height": 212
        },
        "id": "ylxN4EOebpkb",
        "outputId": "bc6018b2-77ce-4c25-f292-df067ddfaecb"
      },
      "source": [
        "print(df.shape)\n",
        "df.head(3)"
      ],
      "execution_count": 61,
      "outputs": [
        {
          "output_type": "stream",
          "name": "stdout",
          "text": [
            "(3738, 28)\n"
          ]
        },
        {
          "output_type": "execute_result",
          "data": {
            "text/html": [
              "<div>\n",
              "<style scoped>\n",
              "    .dataframe tbody tr th:only-of-type {\n",
              "        vertical-align: middle;\n",
              "    }\n",
              "\n",
              "    .dataframe tbody tr th {\n",
              "        vertical-align: top;\n",
              "    }\n",
              "\n",
              "    .dataframe thead th {\n",
              "        text-align: right;\n",
              "    }\n",
              "</style>\n",
              "<table border=\"1\" class=\"dataframe\">\n",
              "  <thead>\n",
              "    <tr style=\"text-align: right;\">\n",
              "      <th></th>\n",
              "      <th>SeniorCitizen</th>\n",
              "      <th>Partner</th>\n",
              "      <th>Dependents</th>\n",
              "      <th>tenure</th>\n",
              "      <th>PhoneService</th>\n",
              "      <th>MultipleLines</th>\n",
              "      <th>OnlineSecurity</th>\n",
              "      <th>OnlineBackup</th>\n",
              "      <th>DeviceProtection</th>\n",
              "      <th>TechSupport</th>\n",
              "      <th>StreamingTV</th>\n",
              "      <th>StreamingMovies</th>\n",
              "      <th>PaperlessBilling</th>\n",
              "      <th>MonthlyCharges</th>\n",
              "      <th>TotalCharges</th>\n",
              "      <th>gender_Female</th>\n",
              "      <th>gender_Male</th>\n",
              "      <th>InternetService_DSL</th>\n",
              "      <th>InternetService_Fiber optic</th>\n",
              "      <th>InternetService_No</th>\n",
              "      <th>Contract_Month-to-month</th>\n",
              "      <th>Contract_One year</th>\n",
              "      <th>Contract_Two year</th>\n",
              "      <th>PaymentMethod_Bank transfer (automatic)</th>\n",
              "      <th>PaymentMethod_Credit card (automatic)</th>\n",
              "      <th>PaymentMethod_Electronic check</th>\n",
              "      <th>PaymentMethod_Mailed check</th>\n",
              "      <th>Churn</th>\n",
              "    </tr>\n",
              "  </thead>\n",
              "  <tbody>\n",
              "    <tr>\n",
              "      <th>6458</th>\n",
              "      <td>0</td>\n",
              "      <td>1</td>\n",
              "      <td>1</td>\n",
              "      <td>6</td>\n",
              "      <td>1</td>\n",
              "      <td>0</td>\n",
              "      <td>1</td>\n",
              "      <td>0</td>\n",
              "      <td>0</td>\n",
              "      <td>0</td>\n",
              "      <td>0</td>\n",
              "      <td>0</td>\n",
              "      <td>1</td>\n",
              "      <td>49.15</td>\n",
              "      <td>295.65</td>\n",
              "      <td>0</td>\n",
              "      <td>1</td>\n",
              "      <td>1</td>\n",
              "      <td>0</td>\n",
              "      <td>0</td>\n",
              "      <td>1</td>\n",
              "      <td>0</td>\n",
              "      <td>0</td>\n",
              "      <td>0</td>\n",
              "      <td>0</td>\n",
              "      <td>1</td>\n",
              "      <td>0</td>\n",
              "      <td>0</td>\n",
              "    </tr>\n",
              "    <tr>\n",
              "      <th>4599</th>\n",
              "      <td>0</td>\n",
              "      <td>1</td>\n",
              "      <td>1</td>\n",
              "      <td>52</td>\n",
              "      <td>1</td>\n",
              "      <td>0</td>\n",
              "      <td>0</td>\n",
              "      <td>0</td>\n",
              "      <td>1</td>\n",
              "      <td>0</td>\n",
              "      <td>0</td>\n",
              "      <td>0</td>\n",
              "      <td>1</td>\n",
              "      <td>50.95</td>\n",
              "      <td>2610.65</td>\n",
              "      <td>1</td>\n",
              "      <td>0</td>\n",
              "      <td>1</td>\n",
              "      <td>0</td>\n",
              "      <td>0</td>\n",
              "      <td>0</td>\n",
              "      <td>1</td>\n",
              "      <td>0</td>\n",
              "      <td>1</td>\n",
              "      <td>0</td>\n",
              "      <td>0</td>\n",
              "      <td>0</td>\n",
              "      <td>0</td>\n",
              "    </tr>\n",
              "    <tr>\n",
              "      <th>5222</th>\n",
              "      <td>0</td>\n",
              "      <td>0</td>\n",
              "      <td>0</td>\n",
              "      <td>8</td>\n",
              "      <td>1</td>\n",
              "      <td>1</td>\n",
              "      <td>1</td>\n",
              "      <td>1</td>\n",
              "      <td>1</td>\n",
              "      <td>0</td>\n",
              "      <td>0</td>\n",
              "      <td>0</td>\n",
              "      <td>1</td>\n",
              "      <td>65.50</td>\n",
              "      <td>573.15</td>\n",
              "      <td>1</td>\n",
              "      <td>0</td>\n",
              "      <td>1</td>\n",
              "      <td>0</td>\n",
              "      <td>0</td>\n",
              "      <td>1</td>\n",
              "      <td>0</td>\n",
              "      <td>0</td>\n",
              "      <td>1</td>\n",
              "      <td>0</td>\n",
              "      <td>0</td>\n",
              "      <td>0</td>\n",
              "      <td>0</td>\n",
              "    </tr>\n",
              "  </tbody>\n",
              "</table>\n",
              "</div>"
            ],
            "text/plain": [
              "      SeniorCitizen  Partner  ...  PaymentMethod_Mailed check  Churn\n",
              "6458              0        1  ...                           0      0\n",
              "4599              0        1  ...                           0      0\n",
              "5222              0        0  ...                           0      0\n",
              "\n",
              "[3 rows x 28 columns]"
            ]
          },
          "metadata": {},
          "execution_count": 61
        }
      ]
    },
    {
      "cell_type": "markdown",
      "metadata": {
        "id": "s1e3_SD7j1FN"
      },
      "source": [
        "É importante alterar todos os dados para formato numérico pois a maioria dos algorítimos de Machine Learning esperam dados numéricos."
      ]
    },
    {
      "cell_type": "code",
      "metadata": {
        "id": "fYTKT0k5f8bd"
      },
      "source": [
        "df = df.apply(pd.to_numeric)"
      ],
      "execution_count": null,
      "outputs": []
    },
    {
      "cell_type": "markdown",
      "metadata": {
        "id": "ze-i2H8P3Qgi"
      },
      "source": [
        "##StandardScaler\n",
        "\n",
        "Antes de continuar com nossa análise, é importante não esquecer que nossos recursos de 'tenure', 'MonthlyCharges' e 'TotalCharges' não o foram \"escalados\". Muitos algoritmos de Machine Learning assumem que os dados estão padronizados na hora de gerar o modelo, ou seja, assumem que os dados estão todos na mesma escala…"
      ]
    },
    {
      "cell_type": "code",
      "metadata": {
        "colab": {
          "base_uri": "https://localhost:8080/",
          "height": 194
        },
        "id": "722LfsfiyElw",
        "outputId": "af576cc4-1d17-42d7-86c3-94ecaa992e20"
      },
      "source": [
        "#Importar StandardScaler\n",
        "from sklearn.preprocessing import StandardScaler\n",
        "\n",
        "\n",
        "df_std = df.copy()\n",
        "scaler = StandardScaler()\n",
        "df_std['std_tenure'] = scaler.fit_transform(df_std['tenure'].values.reshape(-1, 1))\n",
        "df_std['std_MonthlyCharges'] = scaler.fit_transform(df_std['MonthlyCharges'].values.reshape(-1, 1))\n",
        "df_std['std_TotalCharges'] = scaler.fit_transform(df_std['TotalCharges'].values.reshape(-1, 1))\n",
        "\n",
        "df_std.drop(['TotalCharges', 'std_MonthlyCharges', 'tenure'], axis=1, inplace=True)\n",
        "\n",
        "#Visualizar novo dataset\n",
        "df_std.head(3)"
      ],
      "execution_count": null,
      "outputs": [
        {
          "output_type": "execute_result",
          "data": {
            "text/html": [
              "<div>\n",
              "<style scoped>\n",
              "    .dataframe tbody tr th:only-of-type {\n",
              "        vertical-align: middle;\n",
              "    }\n",
              "\n",
              "    .dataframe tbody tr th {\n",
              "        vertical-align: top;\n",
              "    }\n",
              "\n",
              "    .dataframe thead th {\n",
              "        text-align: right;\n",
              "    }\n",
              "</style>\n",
              "<table border=\"1\" class=\"dataframe\">\n",
              "  <thead>\n",
              "    <tr style=\"text-align: right;\">\n",
              "      <th></th>\n",
              "      <th>SeniorCitizen</th>\n",
              "      <th>Partner</th>\n",
              "      <th>Dependents</th>\n",
              "      <th>PhoneService</th>\n",
              "      <th>MultipleLines</th>\n",
              "      <th>OnlineSecurity</th>\n",
              "      <th>OnlineBackup</th>\n",
              "      <th>DeviceProtection</th>\n",
              "      <th>TechSupport</th>\n",
              "      <th>StreamingTV</th>\n",
              "      <th>StreamingMovies</th>\n",
              "      <th>PaperlessBilling</th>\n",
              "      <th>MonthlyCharges</th>\n",
              "      <th>gender_Female</th>\n",
              "      <th>gender_Male</th>\n",
              "      <th>InternetService_DSL</th>\n",
              "      <th>InternetService_Fiber optic</th>\n",
              "      <th>InternetService_No</th>\n",
              "      <th>Contract_Month-to-month</th>\n",
              "      <th>Contract_One year</th>\n",
              "      <th>Contract_Two year</th>\n",
              "      <th>PaymentMethod_Bank transfer (automatic)</th>\n",
              "      <th>PaymentMethod_Credit card (automatic)</th>\n",
              "      <th>PaymentMethod_Electronic check</th>\n",
              "      <th>PaymentMethod_Mailed check</th>\n",
              "      <th>Churn</th>\n",
              "      <th>std_tenure</th>\n",
              "      <th>std_TotalCharges</th>\n",
              "    </tr>\n",
              "  </thead>\n",
              "  <tbody>\n",
              "    <tr>\n",
              "      <th>3860</th>\n",
              "      <td>0</td>\n",
              "      <td>0</td>\n",
              "      <td>1</td>\n",
              "      <td>0</td>\n",
              "      <td>0</td>\n",
              "      <td>0</td>\n",
              "      <td>0</td>\n",
              "      <td>0</td>\n",
              "      <td>0</td>\n",
              "      <td>0</td>\n",
              "      <td>0</td>\n",
              "      <td>1</td>\n",
              "      <td>25.35</td>\n",
              "      <td>0</td>\n",
              "      <td>1</td>\n",
              "      <td>1</td>\n",
              "      <td>0</td>\n",
              "      <td>0</td>\n",
              "      <td>1</td>\n",
              "      <td>0</td>\n",
              "      <td>0</td>\n",
              "      <td>0</td>\n",
              "      <td>1</td>\n",
              "      <td>0</td>\n",
              "      <td>0</td>\n",
              "      <td>0</td>\n",
              "      <td>-0.353506</td>\n",
              "      <td>-0.664395</td>\n",
              "    </tr>\n",
              "    <tr>\n",
              "      <th>707</th>\n",
              "      <td>1</td>\n",
              "      <td>0</td>\n",
              "      <td>0</td>\n",
              "      <td>1</td>\n",
              "      <td>1</td>\n",
              "      <td>0</td>\n",
              "      <td>1</td>\n",
              "      <td>0</td>\n",
              "      <td>1</td>\n",
              "      <td>1</td>\n",
              "      <td>1</td>\n",
              "      <td>1</td>\n",
              "      <td>104.65</td>\n",
              "      <td>0</td>\n",
              "      <td>1</td>\n",
              "      <td>0</td>\n",
              "      <td>1</td>\n",
              "      <td>0</td>\n",
              "      <td>0</td>\n",
              "      <td>1</td>\n",
              "      <td>0</td>\n",
              "      <td>1</td>\n",
              "      <td>0</td>\n",
              "      <td>0</td>\n",
              "      <td>0</td>\n",
              "      <td>0</td>\n",
              "      <td>-0.019512</td>\n",
              "      <td>0.444801</td>\n",
              "    </tr>\n",
              "    <tr>\n",
              "      <th>4236</th>\n",
              "      <td>0</td>\n",
              "      <td>0</td>\n",
              "      <td>0</td>\n",
              "      <td>1</td>\n",
              "      <td>0</td>\n",
              "      <td>0</td>\n",
              "      <td>0</td>\n",
              "      <td>0</td>\n",
              "      <td>0</td>\n",
              "      <td>0</td>\n",
              "      <td>0</td>\n",
              "      <td>0</td>\n",
              "      <td>19.95</td>\n",
              "      <td>1</td>\n",
              "      <td>0</td>\n",
              "      <td>0</td>\n",
              "      <td>0</td>\n",
              "      <td>1</td>\n",
              "      <td>1</td>\n",
              "      <td>0</td>\n",
              "      <td>0</td>\n",
              "      <td>0</td>\n",
              "      <td>1</td>\n",
              "      <td>0</td>\n",
              "      <td>0</td>\n",
              "      <td>0</td>\n",
              "      <td>-1.104993</td>\n",
              "      <td>-0.917028</td>\n",
              "    </tr>\n",
              "  </tbody>\n",
              "</table>\n",
              "</div>"
            ],
            "text/plain": [
              "      SeniorCitizen  Partner  Dependents  ...  Churn  std_tenure  std_TotalCharges\n",
              "3860              0        0           1  ...      0   -0.353506         -0.664395\n",
              "707               1        0           0  ...      0   -0.019512          0.444801\n",
              "4236              0        0           0  ...      0   -1.104993         -0.917028\n",
              "\n",
              "[3 rows x 28 columns]"
            ]
          },
          "metadata": {},
          "execution_count": 20
        }
      ]
    },
    {
      "cell_type": "markdown",
      "metadata": {
        "id": "bzG8h-PWz71P"
      },
      "source": [
        "##Dividir entre conjuntos de Treino e Validação\n",
        "\n",
        "Antes de proceder com a validação dos dados, devemos splitar os dados já existentes entre Treino e Validação. \n",
        "\n",
        "Para garantir que os conjuntos de Treino e Validação tenham a mesma quantidade de classes proporcionalmente, passamos stratify=True."
      ]
    },
    {
      "cell_type": "code",
      "metadata": {
        "id": "57XZWIN2eBcr"
      },
      "source": [
        "#Importar train_test_split\n",
        "from sklearn.model_selection import train_test_split\n",
        "\n",
        "#Separar os dados entre feature matrix e target vector \n",
        "X = df_std.drop('Churn', axis=1)\n",
        "y = df_std['Churn']\n",
        "#Dividir o dataset entre treino e teste\n",
        "X_train, X_test, y_train, y_test = train_test_split(X, y, stratify=y, shuffle=True)"
      ],
      "execution_count": null,
      "outputs": []
    },
    {
      "cell_type": "markdown",
      "metadata": {
        "id": "XlIWLlde7ABM"
      },
      "source": [
        "## Instanciando modelos e realizando Cross Validation"
      ]
    },
    {
      "cell_type": "markdown",
      "metadata": {
        "id": "8fIi6hyVnouJ"
      },
      "source": [
        "Antes de mais nada, você precisa instanciar o objeto do classificador. \n",
        "\n",
        "\n",
        "\n"
      ]
    },
    {
      "cell_type": "code",
      "metadata": {
        "id": "UUoqqbPA6drZ"
      },
      "source": [
        "#Instanciar modelos\n",
        "rf = RandomForestClassifier()\n",
        "dt = DecisionTreeClassifier()\n",
        "svc = SVC()\n",
        "lr = LogisticRegression(max_iter=3000)\n",
        "xgb = XGBClassifier()"
      ],
      "execution_count": null,
      "outputs": []
    },
    {
      "cell_type": "markdown",
      "metadata": {
        "id": "Zj48zToMkJ5q"
      },
      "source": [
        "A validação cruzada é uma ferramenta muito útil para um cientista de dados para avaliar a eficácia do modelo, especialmente para lidar com overfitting e underfitting. Além disso, é útil determinar os hiperparâmetros do modelo, no sentido de que quais parâmetros resultarão no menor erro de teste.\n"
      ]
    },
    {
      "cell_type": "markdown",
      "metadata": {
        "id": "lrcqP81h6peD"
      },
      "source": [
        "**Os modelos escolhidos para comparar na Cross Validation foram:**\n",
        "\n",
        "- **Random Forest:** É um método de conjunto (baseado na abordagem dividir e conquistar) de árvores de decisão geradas em um conjunto de dados dividido aleatoriamente. Essa coleção de classificadores de árvore de decisão também é conhecida como floresta. As árvores de decisão individuais são geradas usando um indicador de seleção de atributo, como ganho de informação, razão de ganho e índice de Gini para cada atributo. Cada árvore depende de uma amostra aleatória independente. Em um problema de classificação, cada árvore vota e a classe mais popular é escolhida como o resultado final."
      ]
    },
    {
      "cell_type": "code",
      "metadata": {
        "colab": {
          "base_uri": "https://localhost:8080/"
        },
        "id": "fkkxjFTvWEnn",
        "outputId": "3a9544fb-d65e-4831-c798-14a485418799"
      },
      "source": [
        "#Cross Validation Random Forest\n",
        "cross_val_score(rf, X_train, y_train, cv=10, scoring='accuracy').mean()"
      ],
      "execution_count": null,
      "outputs": [
        {
          "output_type": "execute_result",
          "data": {
            "text/plain": [
              "0.7506304016268428"
            ]
          },
          "metadata": {},
          "execution_count": 23
        }
      ]
    },
    {
      "cell_type": "markdown",
      "metadata": {
        "id": "Jy-LxlLR8ZUp"
      },
      "source": [
        "- **Decision Tree:** Uma árvore de decisão é um fluxograma semelhante a uma estrutura de árvore, em que cada nó interno denota um teste em um atributo, cada ramificação representa um resultado do teste e cada nó folha (nó terminal) contém um rótulo de classe."
      ]
    },
    {
      "cell_type": "code",
      "metadata": {
        "colab": {
          "base_uri": "https://localhost:8080/"
        },
        "id": "QlTJ6S2FW0z8",
        "outputId": "c3c1ef9a-e13f-4472-a192-956d8bd9d3da"
      },
      "source": [
        "#Cross Validation Decision Tree\n",
        "cross_val_score(dt, X_train, y_train, cv=10, scoring='accuracy').mean()"
      ],
      "execution_count": null,
      "outputs": [
        {
          "output_type": "execute_result",
          "data": {
            "text/plain": [
              "0.6618022369089984"
            ]
          },
          "metadata": {},
          "execution_count": 24
        }
      ]
    },
    {
      "cell_type": "markdown",
      "metadata": {
        "id": "PnNo_SVM9eDs"
      },
      "source": [
        "- **Support Vector Machine:** O objetivo do algoritmo da máquina de vetores de suporte é encontrar um hiperplano em um espaço N-dimensional (N - o número de recursos) que classifica distintamente os pontos de dados."
      ]
    },
    {
      "cell_type": "code",
      "metadata": {
        "colab": {
          "base_uri": "https://localhost:8080/"
        },
        "id": "qRAtXlWTW-yc",
        "outputId": "ab5b4fa4-cf8a-4176-e4b3-d84b1a2524c8"
      },
      "source": [
        "#Cross Validation Support Vector \n",
        "cross_val_score(svc, X_train, y_train, cv=10, scoring='accuracy').mean()"
      ],
      "execution_count": null,
      "outputs": [
        {
          "output_type": "execute_result",
          "data": {
            "text/plain": [
              "0.7031723436705644"
            ]
          },
          "metadata": {},
          "execution_count": 25
        }
      ]
    },
    {
      "cell_type": "markdown",
      "metadata": {
        "id": "kGuJ_3Jb9lul"
      },
      "source": [
        "- **Logistic Regression:** A regressão logística é um processo de modelagem da probabilidade de um resultado discreto dada uma variável de entrada. Os modelos de regressão logística mais comuns são um resultado binário; algo que pode assumir dois valores, como verdadeiro / falso, sim / não e assim por diante."
      ]
    },
    {
      "cell_type": "code",
      "metadata": {
        "colab": {
          "base_uri": "https://localhost:8080/"
        },
        "id": "JdISiBBpXhPD",
        "outputId": "403ada92-64af-4ae6-f7d4-49ac81e9b786"
      },
      "source": [
        "#Cross Validation Logistic Regression \n",
        "cross_val_score(lr, X_train, y_train, cv=10, scoring='accuracy').mean()"
      ],
      "execution_count": null,
      "outputs": [
        {
          "output_type": "execute_result",
          "data": {
            "text/plain": [
              "0.7656215048296898"
            ]
          },
          "metadata": {},
          "execution_count": 26
        }
      ]
    },
    {
      "cell_type": "markdown",
      "metadata": {
        "id": "3ckgkPV290jq"
      },
      "source": [
        "\n",
        "\n",
        "\n",
        "- **XGboost:** O XGBoost é um algoritmo de aprendizado de máquina, baseado em árvore de decisão e que utiliza uma estrutura de Gradient boosting. A implementação do algoritmo foi projetada para eficiência de tempo de computação e recursos de memória.\n"
      ]
    },
    {
      "cell_type": "code",
      "metadata": {
        "colab": {
          "base_uri": "https://localhost:8080/"
        },
        "id": "QkP3XOP6XM1g",
        "outputId": "a7cae27f-060f-493f-d5b5-1bd3a9da5734"
      },
      "source": [
        "#Cross Validation X boost \n",
        "print(cross_val_score(xgb, X_train, y_train, cv=10, scoring='accuracy').mean())"
      ],
      "execution_count": null,
      "outputs": [
        {
          "output_type": "stream",
          "name": "stdout",
          "text": [
            "0.7659875444839858\n"
          ]
        }
      ]
    },
    {
      "cell_type": "markdown",
      "metadata": {
        "id": "vA9EfaV4bmOE"
      },
      "source": [
        "Como podemos ver Logistic Regression teve o melhor resultado de acurácia na Cross Validation e por isso seguiremos com esse modelo.\n",
        "Em seguida, você pode aplicar o modelo treinado no teste e verificar qual o desempenho dele nestes dados ‘novos’ (não foram usados na construção do modelo):"
      ]
    },
    {
      "cell_type": "code",
      "metadata": {
        "id": "IyOqqyeZX-9v"
      },
      "source": [
        "#Fit do modelo (treinar)\n",
        "lr.fit(X_train, y_train)\n",
        "\n",
        "#Fazer previsões em cima de novos dados\n",
        "y_pred = lr.predict(X_test)\n",
        "y_proba = lr.predict_proba(X_test)"
      ],
      "execution_count": null,
      "outputs": []
    },
    {
      "cell_type": "markdown",
      "metadata": {
        "id": "zFa2qHQx-2RE"
      },
      "source": [
        "Veja que salvamos a predição no objeto y_pred. Isto porque queremos compará-lo com y_test. Em outras palavras, queremos saber qual a diferença entre o que o modelo previu e o que realmente ocorreu."
      ]
    },
    {
      "cell_type": "markdown",
      "metadata": {
        "id": "MeCpdb0T8DlP"
      },
      "source": [
        "##Avaliação do desempenho do modelo\n",
        "\n",
        "Com o modelo treinado e as previsões feitas, parte-se para a avaliação do desempenho. Neste tipo de problema, originalmente desbalanceado, a acurácia não é uma métrica adequada. Observe a matriz de confusão para ver a taxa de acertos para casos que deram churn, ou pela coluna recall do Relatório de Classificação."
      ]
    },
    {
      "cell_type": "code",
      "metadata": {
        "colab": {
          "base_uri": "https://localhost:8080/"
        },
        "id": "50rbSAaUd6ep",
        "outputId": "d0e7415d-799c-49e4-a789-576a4eef1513"
      },
      "source": [
        "# imprimir relatório de classificação\n",
        "print(classification_report(y_test, y_pred))\n",
        "\n",
        "print('acurácia: ', accuracy_score(y_test, y_pred))\n",
        "print('AUC: ', roc_auc_score(y_test, y_pred))"
      ],
      "execution_count": null,
      "outputs": [
        {
          "output_type": "stream",
          "name": "stdout",
          "text": [
            "              precision    recall  f1-score   support\n",
            "\n",
            "           0       0.77      0.74      0.76       468\n",
            "           1       0.75      0.78      0.76       467\n",
            "\n",
            "    accuracy                           0.76       935\n",
            "   macro avg       0.76      0.76      0.76       935\n",
            "weighted avg       0.76      0.76      0.76       935\n",
            "\n",
            "acurácia:  0.760427807486631\n",
            "AUC:  0.7604458353923023\n"
          ]
        }
      ]
    },
    {
      "cell_type": "markdown",
      "metadata": {
        "id": "9d7Lp0UX8MO9"
      },
      "source": [
        "Por fim, vamos plotar a matriz de confusão para ter, pictorialmente, uma visão do desempenho por classes.\n",
        "\n"
      ]
    },
    {
      "cell_type": "code",
      "metadata": {
        "colab": {
          "base_uri": "https://localhost:8080/",
          "height": 298
        },
        "id": "ZuUfCqU2eKwm",
        "outputId": "b679893f-22eb-4578-a2d5-936c2e95efc8"
      },
      "source": [
        "fig, ax = plt.subplots()\n",
        "sns.heatmap(confusion_matrix(y_test, y_pred), annot=True, ax=ax)\n",
        "\n",
        "ax.set_title(\"Matriz de Confusão\")\n",
        "ax.set_ylabel(\"Verdadeiro\")\n",
        "ax.set_xlabel(\"Previsto\")\n",
        "\n",
        "plt.show()"
      ],
      "execution_count": null,
      "outputs": [
        {
          "output_type": "display_data",
          "data": {
            "image/png": "[encoded data removed]",
            "text/plain": [
              "<Figure size 432x288 with 2 Axes>"
            ]
          },
          "metadata": {}
        }
      ]
    },
    {
      "cell_type": "markdown",
      "metadata": {
        "id": "GleJv1KJ8PKr"
      },
      "source": [
        "##Conclusão\n",
        "\n",
        "O *Churn* é um problema complexo que requer uma quantidade substancial de planejamento antes de usar algoritmos de machine learning. No entanto, é também uma aplicação de data science importante para sinalizar à empresa como anda o crescimento ou a redução da sua base de clientes, além de permitir que a empresa tenha o mínimo de previsibilidade.\n",
        "\n",
        "A partir desse projeto foi possível verificar a importância da utilização de métodos como *Cross Validation* para escolha do algoritmo com melhor fit para a previsão dos dados."
      ]
    }
  ]
}